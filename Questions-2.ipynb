{
 "cells": [
  {
   "cell_type": "code",
   "execution_count": 1,
   "id": "beadb85c",
   "metadata": {},
   "outputs": [
    {
     "name": "stdout",
     "output_type": "stream",
     "text": [
      "The Parrot is green in colour and size is 5 in inches.\n"
     ]
    }
   ],
   "source": [
    "class bird:\n",
    "    def __init__(self,name,colour):\n",
    "        self.name=name\n",
    "        self.colour=colour\n",
    "    def Bird_size(self,size):\n",
    "        self.size=size\n",
    "        return f\"The {self.name} is {self.colour} in colour and size is {self.size} in inches.\"\n",
    "birds= bird('Parrot','green')\n",
    "print(birds.Bird_size(5))"
   ]
  },
  {
   "cell_type": "code",
   "execution_count": null,
   "id": "9bf49f29",
   "metadata": {},
   "outputs": [],
   "source": []
  }
 ],
 "metadata": {
  "kernelspec": {
   "display_name": "Python 3 (ipykernel)",
   "language": "python",
   "name": "python3"
  },
  "language_info": {
   "codemirror_mode": {
    "name": "ipython",
    "version": 3
   },
   "file_extension": ".py",
   "mimetype": "text/x-python",
   "name": "python",
   "nbconvert_exporter": "python",
   "pygments_lexer": "ipython3",
   "version": "3.9.7"
  }
 },
 "nbformat": 4,
 "nbformat_minor": 5
}
