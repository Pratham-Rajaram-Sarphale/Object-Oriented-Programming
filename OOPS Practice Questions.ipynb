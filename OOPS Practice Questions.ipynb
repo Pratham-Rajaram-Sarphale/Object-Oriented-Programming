{
 "cells": [
  {
   "cell_type": "code",
   "execution_count": 11,
   "id": "fefb1dd5",
   "metadata": {},
   "outputs": [
    {
     "name": "stdout",
     "output_type": "stream",
     "text": [
      "Capacity of Volvo bus is 50 passengers.\n"
     ]
    }
   ],
   "source": [
    "class vehicle:\n",
    "    def __init__(self,name):\n",
    "        self.name=name\n",
    "    def description(self,capacity):\n",
    "        return f\"Capacity of {self.name} bus is {capacity} passengers.\"\n",
    "class Bus(vehicle):\n",
    "    def seating_capacity(self,capacity=50):\n",
    "        return super().description(capacity)#The parent class inherits child class by using super keyword\n",
    "obj1=Bus('Volvo')\n",
    "print(obj1.seating_capacity())"
   ]
  },
  {
   "cell_type": "code",
   "execution_count": 4,
   "id": "3f73dc93",
   "metadata": {},
   "outputs": [
    {
     "name": "stdout",
     "output_type": "stream",
     "text": [
      "The colour of Mercedes bus is White.\n"
     ]
    }
   ],
   "source": [
    "class Vehicle:\n",
    "    def __init__(self,name):\n",
    "        self.name=name\n",
    "    def description(self,colour='White'):\n",
    "        return f\"The colour of {self.name} bus is {colour}.\"\n",
    "class Bus(Vehicle):\n",
    "    pass \n",
    "obj1=Bus('Mercedes')\n",
    "print(obj1.description())"
   ]
  },
  {
   "cell_type": "code",
   "execution_count": 10,
   "id": "db8a4793",
   "metadata": {},
   "outputs": [
    {
     "name": "stdout",
     "output_type": "stream",
     "text": [
      "The total bus fare is rupees: 5500.0\n"
     ]
    }
   ],
   "source": [
    "class vehicle:\n",
    "    def __init__(self, name,capacity):\n",
    "        self.name=name\n",
    "        self.capacity=capacity\n",
    "    def fare(self):\n",
    "        return self.capacity*100\n",
    "    \n",
    "class bus(vehicle):\n",
    "    def fare(self):\n",
    "        amount=super().fare()\n",
    "        amount+=amount*0.1\n",
    "        return amount\n",
    "\n",
    "obj1=bus(\"Volvo\",50)\n",
    "print(\"The total bus fare is rupees:\",obj1.fare())"
   ]
  }
 ],
 "metadata": {
  "kernelspec": {
   "display_name": "Python 3 (ipykernel)",
   "language": "python",
   "name": "python3"
  },
  "language_info": {
   "codemirror_mode": {
    "name": "ipython",
    "version": 3
   },
   "file_extension": ".py",
   "mimetype": "text/x-python",
   "name": "python",
   "nbconvert_exporter": "python",
   "pygments_lexer": "ipython3",
   "version": "3.9.7"
  }
 },
 "nbformat": 4,
 "nbformat_minor": 5
}
