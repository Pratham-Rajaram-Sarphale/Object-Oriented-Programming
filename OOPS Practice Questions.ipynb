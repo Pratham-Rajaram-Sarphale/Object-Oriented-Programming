{
 "cells": [
  {
   "cell_type": "code",
   "execution_count": 28,
   "id": "95da939c",
   "metadata": {},
   "outputs": [
    {
     "name": "stdout",
     "output_type": "stream",
     "text": [
      "the capacity of a Volvo is 50 passengers\n"
     ]
    }
   ],
   "source": [
    "class vehicle:\n",
    "    def __init__(self,name,max_speed):\n",
    "        self.name=name\n",
    "        self.max_speed=max_speed\n",
    "    def seating_capacity(self,capacity):\n",
    "        return f\"the capacity of a {self.name} is {capacity} passengers\"\n",
    "class bus(vehicle):\n",
    "    def seating_capacit(self,capacity=50):\n",
    "        return super().seating_capacity(capacity=50)\n",
    "    \n",
    "obj1=bus('Volvo',999)\n",
    "print(obj1.seating_capacit())"
   ]
  },
  {
   "cell_type": "code",
   "execution_count": 34,
   "id": "d4a73c0b",
   "metadata": {},
   "outputs": [
    {
     "name": "stdout",
     "output_type": "stream",
     "text": [
      "Black School Volvo Speed: 180 mileage: 12\n",
      "Black Audi Q5 Speed: 240 Mileage: 18\n"
     ]
    }
   ],
   "source": [
    "class vehicle:\n",
    "    colour='Black'\n",
    "    def __init__(self,name,max_speed,mileage):\n",
    "        self.name=name\n",
    "        self.max_speed=max_speed\n",
    "        self.mileage=mileage\n",
    "class Bus(vehicle):\n",
    "    pass\n",
    "class Car(vehicle):\n",
    "    pass\n",
    "School_bus=Bus('School Volvo',180,12)\n",
    "print(School_bus.colour,School_bus.name,\"Speed:\",School_bus.max_speed,\"mileage:\",School_bus.mileage)\n",
    "car=Car(\"Audi Q5\",240,18)\n",
    "print(car.colour,car.name,\"Speed:\",car.max_speed,\"Mileage:\",car.mileage)"
   ]
  },
  {
   "cell_type": "code",
   "execution_count": 40,
   "id": "93964e60",
   "metadata": {},
   "outputs": [
    {
     "name": "stdout",
     "output_type": "stream",
     "text": [
      "total bus fare is: 590.0\n"
     ]
    }
   ],
   "source": [
    "class vehicle:\n",
    "    def __init__(self, name, milege, capacity):\n",
    "        self.name=name\n",
    "        self.milege=milege\n",
    "        self.capacity=capacity\n",
    "        \n",
    "    def fare(self):\n",
    "        return self.capacity*50\n",
    "    \n",
    "class bus(vehicle):\n",
    "    def fare(self):\n",
    "        amount=super().fare()\n",
    "        amount+=amount*18/100\n",
    "        return amount\n",
    "\n",
    "School_bus=bus(\"School volvo\",12,300)\n",
    "print(\"total bus fare is:\", School_bus.fare())"
   ]
  },
  {
   "cell_type": "code",
   "execution_count": null,
   "id": "a004b462",
   "metadata": {},
   "outputs": [],
   "source": []
  }
 ],
 "metadata": {
  "kernelspec": {
   "display_name": "Python 3 (ipykernel)",
   "language": "python",
   "name": "python3"
  },
  "language_info": {
   "codemirror_mode": {
    "name": "ipython",
    "version": 3
   },
   "file_extension": ".py",
   "mimetype": "text/x-python",
   "name": "python",
   "nbconvert_exporter": "python",
   "pygments_lexer": "ipython3",
   "version": "3.9.7"
  }
 },
 "nbformat": 4,
 "nbformat_minor": 5
}
